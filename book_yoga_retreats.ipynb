{
 "cells": [
  {
   "cell_type": "code",
   "execution_count": 3,
   "metadata": {
    "collapsed": true,
    "pycharm": {
     "name": "#%%\n"
    }
   },
   "outputs": [],
   "source": [
    "import requests\n",
    "from bs4 import BeautifulSoup\n",
    "import pandas as pd\n",
    "import numpy as np\n",
    "import asyncio\n",
    "import aiohttp\n",
    "import nest_asyncio\n",
    "from selenium import webdriver\n",
    "from selenium.webdriver.common.action_chains import ActionChains\n",
    "from selenium.webdriver.support.ui import Select\n",
    "from loguru import logger\n",
    "from datetime import datetime\n",
    "import glob\n",
    "from matplotlib import pyplot as plt\n",
    "from collections import Counter\n",
    "import time\n",
    "from fake_useragent import UserAgent\n",
    "from collections import Counter\n",
    "import urllib\n",
    "\n",
    "from urllib.request import Request, urlopen\n",
    "\n",
    "nest_asyncio.apply()\n"
   ]
  },
  {
   "cell_type": "code",
   "execution_count": null,
   "outputs": [],
   "source": [
    "print(f'{asyncio.get_event_loop()}')\n",
    "print(f'{asyncio.get_event_loop_policy()}')"
   ],
   "metadata": {
    "collapsed": false,
    "pycharm": {
     "name": "#%%\n"
    }
   }
  },
  {
   "cell_type": "code",
   "execution_count": 15,
   "outputs": [
    {
     "name": "stdout",
     "output_type": "stream",
     "text": [
      "https://www.bookyogaretreats.com/yoga-weeks/6-day-urban-yoga-retreat-in-barcelona-catalonia\n"
     ]
    },
    {
     "data": {
      "text/plain": "'\\nRetreat organizer: Yoga Weeks\\n\\nYoga Weeks is a modern yoga lifestyle team. Offering yoga retreats in Barcelona, Andorra, and Ibiza, as well as the Yoga Boat.\\n\\n\\n\\n\\nBarcelona, Spain\\n\\n\\nThe organizer also speaks: French, German, Spanish\\n\\n\\n'"
     },
     "execution_count": 15,
     "metadata": {},
     "output_type": "execute_result"
    }
   ],
   "source": [
    "base_url = 'www.bookyogaretreats.com'\n",
    "\n",
    "url='https://www.bookyogaretreats.com/yoga-weeks/6-day-urban-yoga-retreat-in-barcelona-catalonia'\n",
    "# url='https://www.bookyogaretreats.com/?page=504'\n",
    "print(url)\n",
    "\n",
    "# r = requests.get(url)\n",
    "# response = r.text.encode('utf-8')\n",
    "\n",
    "r = Request(url , headers={'User-Agent': 'Mozilla/5.0'})\n",
    "response = urlopen(r).read()\n",
    "\n",
    "soup = BeautifulSoup(response, 'html.parser')\n",
    "title=soup.find('h1', {'class': 'listing-title__title title listing-title-new'}).text\n",
    "soup.find('div', {'class': 'listing-organizer-card__content'}).text"
   ],
   "metadata": {
    "collapsed": false,
    "pycharm": {
     "name": "#%%\n"
    }
   }
  },
  {
   "cell_type": "code",
   "execution_count": null,
   "outputs": [],
   "source": [
    "retreat_links = []\n",
    "\n",
    "pages_start=350\n",
    "# max 504\n",
    "pages_end = 351\n",
    "# [pages_start, pages_end)\n",
    "\n",
    "workers = 1\n",
    "\n",
    "pages_number=int(pages_end-pages_start)\n",
    "\n",
    "print(f'pages num {pages_number}')\n",
    "\n",
    "pages_step = int(pages_number / workers)\n",
    "diff = pages_number - pages_step * workers\n",
    "\n",
    "workers_pages_start = [pages_step * i + pages_start for i in range(workers)]\n",
    "workers_pages_end = [pages_step * i+pages_start-1 for i in range(1, workers + 1)]\n",
    "workers_pages_end[-1] += diff\n",
    "\n",
    "async def get_links(start, end):\n",
    "    global retreat_links\n",
    "    for page in range(start, end + 1):\n",
    "        print(page)\n",
    "        url = f'https://www.bookyogaretreats.com/?page={page}'\n",
    "\n",
    "        async with aiohttp.ClientSession() as session:\n",
    "            async with session.get(url,headers={'user-agent': 'Mozilla/5.0'}) as response:\n",
    "                response = await response.text()\n",
    "                soup = BeautifulSoup(response, 'html.parser')\n",
    "\n",
    "                links = soup.findAll('a', {'class': 'js-showcard-link'}, href=True)\n",
    "                for link in links:\n",
    "                    retreat_link = 'https://www.bookyogaretreats.com' + link['href']\n",
    "                    retreat_links.append(retreat_link)\n",
    "                np.save(f'bookyogaretreats_links_{pages_start}_{pages_end}.npy', retreat_links)\n",
    "\n",
    "        await session.close()\n",
    "\n",
    "\n",
    "result = asyncio.run(asyncio.gather(*[get_links(workers_pages_start[i], workers_pages_end[i]) for i in range(workers)]))"
   ],
   "metadata": {
    "collapsed": false,
    "pycharm": {
     "name": "#%%\n"
    }
   }
  },
  {
   "cell_type": "code",
   "execution_count": null,
   "outputs": [],
   "source": [
    "pages_start=351\n",
    "pages_end=505\n",
    "arr=np.load(f'bookyogaretreats_links_{pages_start}_{pages_end}.npy')\n",
    "arr.shape"
   ],
   "metadata": {
    "collapsed": false,
    "pycharm": {
     "name": "#%%\n"
    }
   }
  },
  {
   "cell_type": "code",
   "execution_count": null,
   "outputs": [],
   "source": [
    "a1= np.load(f'bookyogaretreats_links_1_200.npy')\n",
    "a2 = np.load(f'bookyogaretreats_links_200_201.npy')\n",
    "a3 = np.load(f'bookyogaretreats_links_201_350.npy')\n",
    "a4 = np.load(f'bookyogaretreats_links_350_351.npy')\n",
    "a5 = np.load(f'bookyogaretreats_links_351_505.npy')\n",
    "\n",
    "links=np.concatenate([a1,a2,a3,a4,a5])"
   ],
   "metadata": {
    "collapsed": false,
    "pycharm": {
     "name": "#%%\n"
    }
   }
  },
  {
   "cell_type": "code",
   "execution_count": null,
   "outputs": [],
   "source": [
    "np.save('bookyogaretreats_links.npy',links)"
   ],
   "metadata": {
    "collapsed": false,
    "pycharm": {
     "name": "#%%\n"
    }
   }
  },
  {
   "cell_type": "code",
   "execution_count": 4,
   "outputs": [
    {
     "data": {
      "text/plain": "(5730,)"
     },
     "execution_count": 4,
     "metadata": {},
     "output_type": "execute_result"
    }
   ],
   "source": [
    "links=np.load('bookyogaretreats_links.npy')\n",
    "links.shape"
   ],
   "metadata": {
    "collapsed": false,
    "pycharm": {
     "name": "#%%\n"
    }
   }
  },
  {
   "cell_type": "code",
   "execution_count": null,
   "outputs": [],
   "source": [
    "lnk=np.unique(links)\n",
    "np.save('bookyogaretreats_links.npy',lnk)"
   ],
   "metadata": {
    "collapsed": false,
    "pycharm": {
     "name": "#%%\n"
    }
   }
  },
  {
   "cell_type": "code",
   "execution_count": null,
   "outputs": [],
   "source": [
    "retreats = pd.DataFrame(\n",
    "    {'title': [0], 'duration': [0], 'center_title': [0], 'center_url': [0], 'location': [0], 'country': [0],\n",
    "     'category': [0], 'price': [0],\n",
    "     'deposit': [0], 'retreat_url': [0]})\n",
    "retreats.to_csv('retreats_bookyogaretreats.csv', encoding='utf-8', index=False)"
   ],
   "metadata": {
    "collapsed": false,
    "pycharm": {
     "name": "#%%\n"
    }
   }
  },
  {
   "cell_type": "code",
   "execution_count": null,
   "outputs": [],
   "source": [
    "retreats  = pd.read_csv('retreats_bookyogaretreats.csv')\n",
    "retreats.head(5)"
   ],
   "metadata": {
    "collapsed": false,
    "pycharm": {
     "name": "#%%\n"
    }
   }
  },
  {
   "cell_type": "code",
   "execution_count": null,
   "outputs": [],
   "source": [
    "retreats.info()"
   ],
   "metadata": {
    "collapsed": false,
    "pycharm": {
     "name": "#%%\n"
    }
   }
  },
  {
   "cell_type": "code",
   "execution_count": null,
   "outputs": [],
   "source": [
    "links=np.load('bookyogaretreats_links.npy')\n",
    "\n",
    "base_url = 'https://bookretreats.com'\n",
    "\n",
    "pages_start=1\n",
    "# max 5730\n",
    "pages_end = 5731\n",
    "# [pages_start, pages_end)\n",
    "\n",
    "workers = 20\n",
    "\n",
    "pages_number=int(pages_end-pages_start)\n",
    "\n",
    "print(f'pages num {pages_number}')\n",
    "\n",
    "pages_step = int(pages_number / workers)\n",
    "diff = pages_number - pages_step * workers\n",
    "\n",
    "workers_pages_start = [pages_step * i + pages_start for i in range(workers)]\n",
    "workers_pages_end = [pages_step * i+pages_start-1 for i in range(1, workers + 1)]\n",
    "\n",
    "\n",
    "\n",
    "async def get_retreat(start, end):\n",
    "    global retreats\n",
    "    # global img_links\n",
    "    global links\n",
    "    for i in range(start, end + 1):\n",
    "        print(i)\n",
    "        retreat_url = links[i]\n",
    "\n",
    "        async with aiohttp.ClientSession() as retreat_session:\n",
    "            async with retreat_session.get(retreat_url) as retreat_response:\n",
    "\n",
    "                retreat_response = await retreat_response.text()\n",
    "                soup = BeautifulSoup(retreat_response, 'html.parser')\n",
    "\n",
    "\n",
    "                title = soup.findAll('div', {'class': 'col-span-4 sm:col-span-3 flex items-center'})[0].text\n",
    "\n",
    "\n",
    "                duration =soup.findAll('div', {'class': 'mb-4 text-base text-gray-500 dark:text-gray-300'})[0].text.split(' ')[0]\n",
    "\n",
    "\n",
    "                loc=soup.findAll('a', {'class': 'block text-sm leading-7 text-gray-500 dark:text-gray-400'})\n",
    "                country=loc[-2].text\n",
    "                location=country+' '+loc[-1].text\n",
    "                category=loc[1].text\n",
    "\n",
    "                deposit = soup.findAll('div', {'class': 'tabular-nums text-xl text-gray-500 dark:text-gray-200 font-semibold'})[\n",
    "                              0].text[1:].replace(',', '')[3:]\n",
    "\n",
    "                price = soup.findAll('div', {'class': 'tabular-nums text-2xl text-gray-500 dark:text-gray-200 font-extrabold'})[\n",
    "                            0].text[1:].replace(',', '')[3:]\n",
    "\n",
    "                center = soup.find('a', {'class': 'block text-gray-900 dark:text-gray-200 text-lg font-bold mb-2'})\n",
    "                center_title = center.text\n",
    "                center_half_url = center['href']\n",
    "                center_url = base_url + center_half_url\n",
    "\n",
    "                retreats  = retreats.append(\n",
    "                    {'title': title, 'duration': duration, 'center_title': center_title, 'center_url': center_url,\n",
    "                     'location': location, 'country': country, 'category': category,\n",
    "                     'price': price, 'deposit': deposit, 'retreat_url': retreat_url}, ignore_index=True)\n",
    "                retreats.to_csv('retreats_bookretreats.csv', encoding='utf-8', index=False)\n",
    "\n",
    "\n",
    "result = asyncio.run(asyncio.gather(*[get_retreat(workers_pages_start[i], workers_pages_end[i]) for i in range(workers)]))"
   ],
   "metadata": {
    "collapsed": false,
    "pycharm": {
     "name": "#%%\n"
    }
   }
  }
 ],
 "metadata": {
  "kernelspec": {
   "name": "torch",
   "language": "python",
   "display_name": "torch"
  },
  "language_info": {
   "codemirror_mode": {
    "name": "ipython",
    "version": 2
   },
   "file_extension": ".py",
   "mimetype": "text/x-python",
   "name": "python",
   "nbconvert_exporter": "python",
   "pygments_lexer": "ipython2",
   "version": "2.7.6"
  }
 },
 "nbformat": 4,
 "nbformat_minor": 0
}