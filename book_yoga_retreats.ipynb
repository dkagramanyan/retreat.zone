{
 "cells": [
  {
   "cell_type": "code",
   "execution_count": null,
   "metadata": {
    "collapsed": true,
    "pycharm": {
     "name": "#%%\n"
    }
   },
   "outputs": [],
   "source": [
    "import requests\n",
    "from bs4 import BeautifulSoup\n",
    "import pandas as pd\n",
    "import numpy as np\n",
    "import asyncio\n",
    "import aiohttp\n",
    "import nest_asyncio\n",
    "from selenium import webdriver\n",
    "from selenium.webdriver.common.action_chains import ActionChains\n",
    "from selenium.webdriver.support.ui import Select\n",
    "from loguru import logger\n",
    "from datetime import datetime\n",
    "import glob\n",
    "from matplotlib import pyplot as plt\n",
    "from collections import Counter\n",
    "import time\n",
    "from fake_useragent import UserAgent\n",
    "from collections import Counter\n",
    "import urllib\n",
    "\n",
    "from urllib.request import Request, urlopen\n",
    "\n",
    "nest_asyncio.apply()\n"
   ]
  },
  {
   "cell_type": "code",
   "execution_count": null,
   "outputs": [],
   "source": [
    "base_url = 'www.bookyogaretreats.com'\n",
    "\n",
    "# url='https://www.bookyogaretreats.com/yoga-weeks/6-day-urban-yoga-retreat-in-barcelona-catalonia'\n",
    "url='https://www.bookyogaretreats.com/?page=504'\n",
    "print(url)\n",
    "\n",
    "# r = requests.get(url)\n",
    "# response = r.text.encode('utf-8')\n",
    "\n",
    "r = Request(url , headers={'User-Agent': 'Mozilla/5.0'})\n",
    "response = urlopen(r).read()\n",
    "\n",
    "soup = BeautifulSoup(response, 'html.parser')\n",
    "soup\n",
    "# soup.findAll('a', {'class': 'js-showcard-link'}, href=True)[0]['href']\n"
   ],
   "metadata": {
    "collapsed": false,
    "pycharm": {
     "name": "#%%\n"
    }
   }
  },
  {
   "cell_type": "code",
   "execution_count": null,
   "outputs": [],
   "source": [
    "retreat_links = []\n",
    "\n",
    "pages_number = 504\n",
    "workers = 20\n",
    "\n",
    "pages_step = int(pages_number / workers)\n",
    "diff = pages_number - pages_step * workers\n",
    "\n",
    "pages_start = [pages_step * i + 1 for i in range(workers)]\n",
    "pages_end = [pages_step * i for i in range(1, workers + 1)]\n",
    "pages_end[-1] += diff\n",
    "\n",
    "page_category = 'other-retreats'\n",
    "\n",
    "async def get_links(start, end):\n",
    "    global retreat_links\n",
    "    for page in range(start, end + 1):\n",
    "        print(page)\n",
    "        url = f'https://www.bookyogaretreats.com/?page={page}'\n",
    "\n",
    "        async with aiohttp.ClientSession() as session:\n",
    "            async with session.get(url,headers={'user-agent': 'Mozilla/5.0'}) as response:\n",
    "                response = await response.text()\n",
    "                soup = BeautifulSoup(response, 'html.parser')\n",
    "\n",
    "                links = soup.findAll('a', {'class': 'js-showcard-link'}, href=True)\n",
    "                for link in links:\n",
    "                    retreat_link = 'https://www.bookyogaretreats.com' + link['href']\n",
    "                    retreat_links.append(retreat_link)\n",
    "                np.save('bookyogaretreats_links.npy', retreat_links)\n",
    "\n",
    "\n",
    "futures = [get_links(pages_start[i], pages_end[i]) for i in range(workers)]\n",
    "\n",
    "loop = asyncio.get_event_loop()\n",
    "loop.run_until_complete(asyncio.wait(futures))\n",
    "# loop.close()"
   ],
   "metadata": {
    "collapsed": false,
    "pycharm": {
     "name": "#%%\n"
    }
   }
  },
  {
   "cell_type": "code",
   "execution_count": null,
   "outputs": [],
   "source": [
    "arr=np.load('bookyogaretreats_links.npy')\n",
    "arr.shape"
   ],
   "metadata": {
    "collapsed": false,
    "pycharm": {
     "name": "#%%\n"
    }
   }
  },
  {
   "cell_type": "code",
   "execution_count": null,
   "outputs": [],
   "source": [
    "# a1= np.load('meditation-retreats_retreats_links.npy')\n",
    "# a2 = np.load('other-retreats_retreats_links.npy')\n",
    "# a3 = np.load('ttc_retreats_links.npy')\n",
    "# a4 = np.load('wellness-retreats_retreats_links.npy')\n",
    "# a5 = np.load('yoga-retreats_retreats_links.npy')\n",
    "# links=np.concatenate([a1,a2,a3,a4,a5])"
   ],
   "metadata": {
    "collapsed": false,
    "pycharm": {
     "name": "#%%\n"
    }
   }
  },
  {
   "cell_type": "code",
   "execution_count": null,
   "outputs": [],
   "source": [
    "retreats = pd.DataFrame(\n",
    "    {'title': [0], 'duration': [0], 'center_title': [0], 'center_url': [0], 'location': [0], 'country': [0],\n",
    "     'category': [0], 'price': [0],\n",
    "     'deposit': [0], 'retreat_url': [0]})\n",
    "retreats.to_csv('retreats_bookretreats.csv', encoding='utf-8', index=False)"
   ],
   "metadata": {
    "collapsed": false,
    "pycharm": {
     "name": "#%%\n"
    }
   }
  },
  {
   "cell_type": "code",
   "execution_count": null,
   "outputs": [],
   "source": [
    "retreats  = pd.read_csv('retreats_bookretreats.csv')\n",
    "retreats.head(5)"
   ],
   "metadata": {
    "collapsed": false,
    "pycharm": {
     "name": "#%%\n"
    }
   }
  },
  {
   "cell_type": "code",
   "execution_count": null,
   "outputs": [],
   "source": [
    "retreats.info()"
   ],
   "metadata": {
    "collapsed": false,
    "pycharm": {
     "name": "#%%\n"
    }
   }
  },
  {
   "cell_type": "code",
   "execution_count": null,
   "outputs": [],
   "source": [
    "links=np.load('retreat_links_bookretreat.npy')\n",
    "\n",
    "base_url = 'https://bookretreats.com'\n",
    "\n",
    "pages_number = 2339\n",
    "workers = 15\n",
    "folder = 'centres_images'\n",
    "# img_links = []\n",
    "\n",
    "pages_step = int(pages_number / workers)\n",
    "diff = pages_number - pages_step * workers\n",
    "\n",
    "pages_start = [pages_step * i + 1 for i in range(workers)]\n",
    "pages_end = [pages_step * i for i in range(1, workers + 1)]\n",
    "pages_end[-1] += diff - 1\n",
    "\n",
    "\n",
    "\n",
    "async def get_retreat(start, end):\n",
    "    global retreats\n",
    "    # global img_links\n",
    "    global links\n",
    "    for i in range(start, end + 1):\n",
    "        print(i)\n",
    "        retreat_url = links[i]\n",
    "\n",
    "        async with aiohttp.ClientSession() as retreat_session:\n",
    "            async with retreat_session.get(retreat_url) as retreat_response:\n",
    "\n",
    "                retreat_response = await retreat_response.text()\n",
    "                soup = BeautifulSoup(retreat_response, 'html.parser')\n",
    "\n",
    "\n",
    "                title = soup.findAll('div', {'class': 'col-span-4 sm:col-span-3 flex items-center'})[0].text\n",
    "\n",
    "\n",
    "                duration =soup.findAll('div', {'class': 'mb-4 text-base text-gray-500 dark:text-gray-300'})[0].text.split(' ')[0]\n",
    "\n",
    "\n",
    "                loc=soup.findAll('a', {'class': 'block text-sm leading-7 text-gray-500 dark:text-gray-400'})\n",
    "                country=loc[-2].text\n",
    "                location=country+' '+loc[-1].text\n",
    "                category=loc[1].text\n",
    "\n",
    "                deposit = soup.findAll('div', {'class': 'tabular-nums text-xl text-gray-500 dark:text-gray-200 font-semibold'})[\n",
    "                              0].text[1:].replace(',', '')[3:]\n",
    "\n",
    "                price = soup.findAll('div', {'class': 'tabular-nums text-2xl text-gray-500 dark:text-gray-200 font-extrabold'})[\n",
    "                            0].text[1:].replace(',', '')[3:]\n",
    "\n",
    "                center = soup.find('a', {'class': 'block text-gray-900 dark:text-gray-200 text-lg font-bold mb-2'})\n",
    "                center_title = center.text\n",
    "                center_half_url = center['href']\n",
    "                center_url = base_url + center_half_url\n",
    "\n",
    "                retreats  = retreats.append(\n",
    "                    {'title': title, 'duration': duration, 'center_title': center_title, 'center_url': center_url,\n",
    "                     'location': location, 'country': country, 'category': category,\n",
    "                     'price': price, 'deposit': deposit, 'retreat_url': retreat_url}, ignore_index=True)\n",
    "                retreats.to_csv('retreats_bookretreats.csv', encoding='utf-8', index=False)\n",
    "\n",
    "futures = [get_retreat(pages_start[i], pages_end[i]) for i in range(workers)]\n",
    "\n",
    "loop = asyncio.get_event_loop()\n",
    "loop.run_until_complete(asyncio.wait(futures))"
   ],
   "metadata": {
    "collapsed": false,
    "pycharm": {
     "name": "#%%\n"
    }
   }
  }
 ],
 "metadata": {
  "kernelspec": {
   "name": "torch",
   "language": "python",
   "display_name": "torch"
  },
  "language_info": {
   "codemirror_mode": {
    "name": "ipython",
    "version": 2
   },
   "file_extension": ".py",
   "mimetype": "text/x-python",
   "name": "python",
   "nbconvert_exporter": "python",
   "pygments_lexer": "ipython2",
   "version": "2.7.6"
  }
 },
 "nbformat": 4,
 "nbformat_minor": 0
}